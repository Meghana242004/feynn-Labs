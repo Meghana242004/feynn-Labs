{
 "cells": [
  {
   "cell_type": "code",
   "execution_count": 1,
   "id": "e1c6cd2e",
   "metadata": {
    "_cell_guid": "b1076dfc-b9ad-4769-8c92-a6c4dae69d19",
    "_uuid": "8f2839f25d086af736a60e9eeb907d3b93b6e0e5",
    "execution": {
     "iopub.execute_input": "2024-03-24T06:25:45.612622Z",
     "iopub.status.busy": "2024-03-24T06:25:45.611853Z",
     "iopub.status.idle": "2024-03-24T06:25:48.761996Z",
     "shell.execute_reply": "2024-03-24T06:25:48.760917Z"
    },
    "papermill": {
     "duration": 3.161728,
     "end_time": "2024-03-24T06:25:48.764916",
     "exception": false,
     "start_time": "2024-03-24T06:25:45.603188",
     "status": "completed"
    },
    "tags": []
   },
   "outputs": [],
   "source": [
    "import pandas as pd\n",
    "import numpy as np\n",
    "import matplotlib.pyplot as plt\n",
    "from sklearn.decomposition import PCA\n",
    "from sklearn.cluster import KMeans\n",
    "import matplotlib.pyplot as plt"
   ]
  },
  {
   "cell_type": "markdown",
   "id": "ce7425fa",
   "metadata": {
    "papermill": {
     "duration": 0.005186,
     "end_time": "2024-03-24T06:25:48.776082",
     "exception": false,
     "start_time": "2024-03-24T06:25:48.770896",
     "status": "completed"
    },
    "tags": []
   },
   "source": [
    "**Loading the dataset from the downloaded CSV file**"
   ]
  },
  {
   "cell_type": "code",
   "execution_count": 2,
   "id": "e941b832",
   "metadata": {
    "execution": {
     "iopub.execute_input": "2024-03-24T06:25:48.789865Z",
     "iopub.status.busy": "2024-03-24T06:25:48.788986Z",
     "iopub.status.idle": "2024-03-24T06:25:48.837344Z",
     "shell.execute_reply": "2024-03-24T06:25:48.835785Z"
    },
    "papermill": {
     "duration": 0.061027,
     "end_time": "2024-03-24T06:25:48.842606",
     "exception": false,
     "start_time": "2024-03-24T06:25:48.781579",
     "status": "completed"
    },
    "tags": []
   },
   "outputs": [
    {
     "name": "stdout",
     "output_type": "stream",
     "text": [
      "['yummy', 'convenient', 'spicy', 'fattening', 'greasy', 'fast', 'cheap', 'tasty', 'expensive', 'healthy', 'disgusting', 'Like', 'Age', 'VisitFrequency', 'Gender']\n",
      "(1453, 15)\n",
      "  yummy convenient spicy fattening greasy fast cheap tasty expensive healthy  \\\n",
      "0    No        Yes    No       Yes     No  Yes   Yes    No       Yes      No   \n",
      "1   Yes        Yes    No       Yes    Yes  Yes   Yes   Yes       Yes      No   \n",
      "2    No        Yes   Yes       Yes    Yes  Yes    No   Yes       Yes     Yes   \n",
      "\n",
      "  disgusting Like  Age      VisitFrequency  Gender  \n",
      "0         No   -3   61  Every three months  Female  \n",
      "1         No   +2   51  Every three months  Female  \n",
      "2         No   +1   62  Every three months  Female  \n"
     ]
    }
   ],
   "source": [
    "mcdonalds_path = '../input/mcdonalds/mcdonalds.csv'\n",
    "mcdonalds = pd.read_csv(mcdonalds_path)\n",
    "print(mcdonalds.columns.tolist())\n",
    "print(mcdonalds.shape)\n",
    "print(mcdonalds.head(3))"
   ]
  },
  {
   "cell_type": "markdown",
   "id": "68487e7f",
   "metadata": {
    "papermill": {
     "duration": 0.006613,
     "end_time": "2024-03-24T06:25:48.858113",
     "exception": false,
     "start_time": "2024-03-24T06:25:48.851500",
     "status": "completed"
    },
    "tags": []
   },
   "source": [
    "**Displaying Column names**"
   ]
  },
  {
   "cell_type": "code",
   "execution_count": 3,
   "id": "e8179eab",
   "metadata": {
    "execution": {
     "iopub.execute_input": "2024-03-24T06:25:48.877007Z",
     "iopub.status.busy": "2024-03-24T06:25:48.876432Z",
     "iopub.status.idle": "2024-03-24T06:25:48.899332Z",
     "shell.execute_reply": "2024-03-24T06:25:48.898126Z"
    },
    "papermill": {
     "duration": 0.035807,
     "end_time": "2024-03-24T06:25:48.902372",
     "exception": false,
     "start_time": "2024-03-24T06:25:48.866565",
     "status": "completed"
    },
    "tags": []
   },
   "outputs": [
    {
     "name": "stdout",
     "output_type": "stream",
     "text": [
      "yummy         0.55\n",
      "convenient    0.91\n",
      "spicy         0.09\n",
      "fattening     0.87\n",
      "greasy        0.53\n",
      "fast          0.90\n",
      "cheap         0.60\n",
      "tasty         0.64\n",
      "expensive     0.36\n",
      "healthy       0.20\n",
      "disgusting    0.24\n",
      "dtype: float64\n"
     ]
    }
   ],
   "source": [
    "MD_x = mcdonalds.iloc[:, 0:11].copy()\n",
    "MD_x = (MD_x == \"Yes\").astype(int)\n",
    "# Calculate column means\n",
    "column_means = np.round(MD_x.mean(), 2)\n",
    "print(column_means)\n"
   ]
  },
  {
   "cell_type": "markdown",
   "id": "9d0270a1",
   "metadata": {
    "papermill": {
     "duration": 0.006256,
     "end_time": "2024-03-24T06:25:48.916135",
     "exception": false,
     "start_time": "2024-03-24T06:25:48.909879",
     "status": "completed"
    },
    "tags": []
   },
   "source": [
    "**Displaying Summary**"
   ]
  },
  {
   "cell_type": "code",
   "execution_count": 4,
   "id": "b76f41ba",
   "metadata": {
    "execution": {
     "iopub.execute_input": "2024-03-24T06:25:48.930220Z",
     "iopub.status.busy": "2024-03-24T06:25:48.929343Z",
     "iopub.status.idle": "2024-03-24T06:25:48.966394Z",
     "shell.execute_reply": "2024-03-24T06:25:48.964403Z"
    },
    "papermill": {
     "duration": 0.049809,
     "end_time": "2024-03-24T06:25:48.971733",
     "exception": false,
     "start_time": "2024-03-24T06:25:48.921924",
     "status": "completed"
    },
    "tags": []
   },
   "outputs": [
    {
     "name": "stdout",
     "output_type": "stream",
     "text": [
      "Importance of components:\n",
      "    Standard deviation  Proportion of Variance  Cumulative Proportion\n",
      "0               0.5731                  0.2994                 0.2994\n",
      "1               0.3690                  0.1928                 0.4922\n",
      "2               0.2546                  0.1330                 0.6253\n",
      "3               0.1590                  0.0831                 0.7084\n",
      "4               0.1138                  0.0595                 0.7679\n",
      "5               0.0963                  0.0503                 0.8182\n",
      "6               0.0839                  0.0438                 0.8620\n",
      "7               0.0757                  0.0395                 0.9016\n",
      "8               0.0704                  0.0368                 0.9383\n",
      "9               0.0619                  0.0324                 0.9707\n",
      "10              0.0561                  0.0293                 1.0000\n"
     ]
    }
   ],
   "source": [
    "# Perform PCA\n",
    "MD_pca = PCA()\n",
    "MD_pca.fit(MD_x)\n",
    "print(\"Importance of components:\")\n",
    "print(pd.DataFrame({\n",
    "    \"Standard deviation\": np.round(MD_pca.explained_variance_, 4),\n",
    "    \"Proportion of Variance\": np.round(MD_pca.explained_variance_ratio_, 4),\n",
    "    \"Cumulative Proportion\": np.round(np.cumsum(MD_pca.explained_variance_ratio_), 4)\n",
    "}))\n"
   ]
  },
  {
   "cell_type": "markdown",
   "id": "5cb8e5ac",
   "metadata": {
    "papermill": {
     "duration": 0.012084,
     "end_time": "2024-03-24T06:25:48.996666",
     "exception": false,
     "start_time": "2024-03-24T06:25:48.984582",
     "status": "completed"
    },
    "tags": []
   },
   "source": [
    "**Printing the standard deviations and rotation matrix of the PCA object**"
   ]
  },
  {
   "cell_type": "code",
   "execution_count": 5,
   "id": "cc8e8584",
   "metadata": {
    "execution": {
     "iopub.execute_input": "2024-03-24T06:25:49.024982Z",
     "iopub.status.busy": "2024-03-24T06:25:49.023270Z",
     "iopub.status.idle": "2024-03-24T06:25:49.041501Z",
     "shell.execute_reply": "2024-03-24T06:25:49.039712Z"
    },
    "papermill": {
     "duration": 0.040133,
     "end_time": "2024-03-24T06:25:49.049035",
     "exception": false,
     "start_time": "2024-03-24T06:25:49.008902",
     "status": "completed"
    },
    "tags": []
   },
   "outputs": [
    {
     "name": "stdout",
     "output_type": "stream",
     "text": [
      "Standard deviations (1, .., p=11):\n",
      "[0.6 0.4 0.3 0.2 0.1 0.1 0.1 0.1 0.1 0.1 0.1]\n",
      "Rotation (n x k) = (11 x 11):\n",
      "[[-0.5 -0.2 -0.   0.1  0.3 -0.1 -0.3 -0.5  0.3 -0.2  0.4]\n",
      " [ 0.4  0.   0.  -0.  -0.1 -0.1 -0.6  0.3  0.6  0.1 -0.1]\n",
      " [-0.3 -0.1 -0.  -0.3 -0.8 -0.1 -0.1 -0.3  0.   0.2 -0.1]\n",
      " [ 0.1 -0.1  0.2 -0.4  0.3 -0.1  0.1 -0.   0.1  0.8  0.4]\n",
      " [-0.3  0.3  0.1 -0.1  0.4  0.1 -0.1 -0.2 -0.   0.3 -0.7]\n",
      " [ 0.2 -0.3 -0.4 -0.4  0.2 -0.6 -0.1 -0.1 -0.3 -0.2 -0.2]\n",
      " [-0.3 -0.1  0.7 -0.4  0.  -0.1 -0.   0.4 -0.1 -0.3 -0. ]\n",
      " [ 0.  -0.1  0.4  0.6 -0.1 -0.6  0.1 -0.1  0.   0.2 -0.2]\n",
      " [ 0.6 -0.   0.4 -0.2 -0.   0.2  0.1 -0.6  0.1 -0.2 -0.1]\n",
      " [-0.1 -0.7 -0.1 -0.   0.   0.2  0.4  0.1  0.5 -0.  -0.3]\n",
      " [ 0.  -0.5  0.1  0.3  0.   0.3 -0.5  0.  -0.5  0.2 -0. ]]\n"
     ]
    }
   ],
   "source": [
    "def print_pca(pca_obj, digits):\n",
    "    print(\"Standard deviations (1, .., p={}):\".format(pca_obj.n_components_))\n",
    "    print(np.round(pca_obj.explained_variance_, digits))\n",
    "    print(\"Rotation (n x k) = ({} x {}):\".format(pca_obj.components_.shape[1], pca_obj.components_.shape[0]))\n",
    "    print(np.round(pca_obj.components_, digits))\n",
    "print_pca(MD_pca, digits=1)\n"
   ]
  },
  {
   "cell_type": "markdown",
   "id": "d1065d23",
   "metadata": {
    "papermill": {
     "duration": 0.010207,
     "end_time": "2024-03-24T06:25:49.071325",
     "exception": false,
     "start_time": "2024-03-24T06:25:49.061118",
     "status": "completed"
    },
    "tags": []
   },
   "source": [
    "**Plotting PCA**"
   ]
  },
  {
   "cell_type": "code",
   "execution_count": 6,
   "id": "49b215c9",
   "metadata": {
    "execution": {
     "iopub.execute_input": "2024-03-24T06:25:49.085157Z",
     "iopub.status.busy": "2024-03-24T06:25:49.084680Z",
     "iopub.status.idle": "2024-03-24T06:25:49.483441Z",
     "shell.execute_reply": "2024-03-24T06:25:49.481903Z"
    },
    "papermill": {
     "duration": 0.40945,
     "end_time": "2024-03-24T06:25:49.486733",
     "exception": false,
     "start_time": "2024-03-24T06:25:49.077283",
     "status": "completed"
    },
    "tags": []
   },
   "outputs": [
    {
     "data": {
      "image/png": "[encoded data removed]",
      "text/plain": [
       "<Figure size 640x480 with 1 Axes>"
      ]
     },
     "metadata": {},
     "output_type": "display_data"
    }
   ],
   "source": [
    "MD_pca = PCA()\n",
    "MD_pca.fit(MD_x)\n",
    "transformed_data = MD_pca.transform(MD_x)\n",
    "plt.scatter(transformed_data[:, 0], transformed_data[:, 1], color='grey')\n",
    "plt.xlabel(\"PC1\")\n",
    "plt.ylabel(\"PC2\")\n",
    "plt.title(\"PCA Plot\")\n",
    "plt.show()\n"
   ]
  },
  {
   "cell_type": "markdown",
   "id": "9427b388",
   "metadata": {
    "papermill": {
     "duration": 0.006862,
     "end_time": "2024-03-24T06:25:49.501048",
     "exception": false,
     "start_time": "2024-03-24T06:25:49.494186",
     "status": "completed"
    },
    "tags": []
   },
   "source": [
    "**Printing Cluster Labels**"
   ]
  },
  {
   "cell_type": "code",
   "execution_count": 7,
   "id": "e21d149d",
   "metadata": {
    "execution": {
     "iopub.execute_input": "2024-03-24T06:25:49.516977Z",
     "iopub.status.busy": "2024-03-24T06:25:49.516481Z",
     "iopub.status.idle": "2024-03-24T06:25:57.455533Z",
     "shell.execute_reply": "2024-03-24T06:25:57.454453Z"
    },
    "papermill": {
     "duration": 7.950996,
     "end_time": "2024-03-24T06:25:57.458841",
     "exception": false,
     "start_time": "2024-03-24T06:25:49.507845",
     "status": "completed"
    },
    "tags": []
   },
   "outputs": [
    {
     "name": "stdout",
     "output_type": "stream",
     "text": [
      "[4 2 5 ... 5 3 0]\n"
     ]
    }
   ],
   "source": [
    "np.random.seed(1234)\n",
    "k_values = range(2, 9)\n",
    "best_model = None\n",
    "best_score = float('inf')\n",
    "for k in k_values:\n",
    "    model = KMeans(n_clusters=k, n_init=10, random_state=1234)\n",
    "    model.fit(MD_x)\n",
    "    if model.inertia_ < best_score:\n",
    "        best_model = model\n",
    "        best_score = model.inertia_\n",
    "cluster_labels = best_model.labels_\n",
    "print(cluster_labels)\n"
   ]
  },
  {
   "cell_type": "markdown",
   "id": "cf67cdf4",
   "metadata": {
    "papermill": {
     "duration": 0.006551,
     "end_time": "2024-03-24T06:25:57.473857",
     "exception": false,
     "start_time": "2024-03-24T06:25:57.467306",
     "status": "completed"
    },
    "tags": []
   },
   "source": [
    "**Plotting using Elbow method**"
   ]
  },
  {
   "cell_type": "code",
   "execution_count": 8,
   "id": "a02a8e18",
   "metadata": {
    "execution": {
     "iopub.execute_input": "2024-03-24T06:25:57.489941Z",
     "iopub.status.busy": "2024-03-24T06:25:57.489495Z",
     "iopub.status.idle": "2024-03-24T06:26:05.238046Z",
     "shell.execute_reply": "2024-03-24T06:26:05.236368Z"
    },
    "papermill": {
     "duration": 7.760513,
     "end_time": "2024-03-24T06:26:05.241375",
     "exception": false,
     "start_time": "2024-03-24T06:25:57.480862",
     "status": "completed"
    },
    "tags": []
   },
   "outputs": [
    {
     "data": {
      "image/png": "[encoded data removed]",
      "text/plain": [
       "<Figure size 640x480 with 1 Axes>"
      ]
     },
     "metadata": {},
     "output_type": "display_data"
    }
   ],
   "source": [
    "k_values = range(2, 9)  \n",
    "inertia_values = []\n",
    "for k in k_values:\n",
    "    kmeans = KMeans(n_clusters=k, n_init=10, random_state=1234)\n",
    "    kmeans.fit(MD_x)\n",
    "    inertia_values.append(kmeans.inertia_)\n",
    "plt.plot(k_values, inertia_values, marker='o')\n",
    "plt.xlabel(\"Number of Clusters (k)\")\n",
    "plt.ylabel(\"Inertia\")\n",
    "plt.title(\"Elbow Method to Choose Number of Clusters\")\n",
    "plt.show()\n"
   ]
  }
 ],
 "metadata": {
  "kaggle": {
   "accelerator": "none",
   "dataSources": [
    {
     "datasetId": 4654433,
     "sourceId": 7920556,
     "sourceType": "datasetVersion"
    }
   ],
   "dockerImageVersionId": 30673,
   "isGpuEnabled": false,
   "isInternetEnabled": false,
   "language": "python",
   "sourceType": "notebook"
  },
  "kernelspec": {
   "display_name": "Python 3",
   "language": "python",
   "name": "python3"
  },
  "language_info": {
   "codemirror_mode": {
    "name": "ipython",
    "version": 3
   },
   "file_extension": ".py",
   "mimetype": "text/x-python",
   "name": "python",
   "nbconvert_exporter": "python",
   "pygments_lexer": "ipython3",
   "version": "3.10.13"
  },
  "papermill": {
   "default_parameters": {},
   "duration": 24.281751,
   "end_time": "2024-03-24T06:26:06.073996",
   "environment_variables": {},
   "exception": null,
   "input_path": "__notebook__.ipynb",
   "output_path": "__notebook__.ipynb",
   "parameters": {},
   "start_time": "2024-03-24T06:25:41.792245",
   "version": "2.5.0"
  }
 },
 "nbformat": 4,
 "nbformat_minor": 5
}
